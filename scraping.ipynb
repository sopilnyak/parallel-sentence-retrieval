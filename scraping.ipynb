{
  "nbformat": 4,
  "nbformat_minor": 0,
  "metadata": {
    "colab": {
      "name": "scraping.ipynb",
      "provenance": [],
      "collapsed_sections": []
    },
    "kernelspec": {
      "name": "python3",
      "display_name": "Python 3"
    },
    "accelerator": "GPU"
  },
  "cells": [
    {
      "cell_type": "markdown",
      "metadata": {
        "id": "kkgOZVlhwFBt",
        "colab_type": "text"
      },
      "source": [
        "# Scraping"
      ]
    },
    {
      "cell_type": "code",
      "metadata": {
        "id": "hYZvF7DZtTmI",
        "colab_type": "code",
        "colab": {}
      },
      "source": [
        "# Выкачиваем и парсим новости\n",
        "\n",
        "from newspaper import Article\n",
        "from tqdm.notebook import tqdm\n",
        "import pandas as pd\n",
        "import os\n",
        "\n",
        "def parse_urls(urls):\n",
        "    data = []\n",
        "    for url in tqdm(urls):\n",
        "        try:\n",
        "            article = Article(url)\n",
        "            article.download()\n",
        "            article.parse()\n",
        "            data.append((article.title, article.text, article.tags, article.publish_date))\n",
        "        except newspaper.ArticleException:\n",
        "            print('Could not download {}'.format(url))\n",
        "\n",
        "    return pd.DataFrame(data, columns=['Title', 'Text', 'Tags', 'Date'])"
      ],
      "execution_count": null,
      "outputs": []
    },
    {
      "cell_type": "markdown",
      "metadata": {
        "id": "sM4_y10B240u",
        "colab_type": "text"
      },
      "source": [
        "## Reuters"
      ]
    },
    {
      "cell_type": "code",
      "metadata": {
        "id": "6deIcd_fuHL2",
        "colab_type": "code",
        "colab": {}
      },
      "source": [
        "# Набираем урлы нужных новостей\n",
        "\n",
        "import requests\n",
        "import re\n",
        "\n",
        "def get_reuters_urls(url_template, num_pages, html_regex):\n",
        "    prefix = \"http://www.reuters.com\"\n",
        "    reuters_urls = []\n",
        "    for page_ind in range(1, num_pages + 1):\n",
        "        url = url_template.format(str(page_ind))\n",
        "        html = requests.get(url).text\n",
        "        reuters_urls += list(map(lambda x: prefix + x, list(set(re.findall(html_regex, html)))))\n",
        "    return list(set(reuters_urls))"
      ],
      "execution_count": null,
      "outputs": []
    },
    {
      "cell_type": "code",
      "metadata": {
        "id": "ZoIQGIHsGFna",
        "colab_type": "code",
        "colab": {}
      },
      "source": [
        "# Мировые новости\n",
        "\n",
        "reuters_urls = get_reuters_urls(\n",
        "    'https://www.reuters.com/news/archive/?view=page&page={}&pageSize=10',\n",
        "    350,\n",
        "    '<a href=\"(/article/.*)\">')\n",
        "reuters_data = parse_urls(reuters_urls)\n",
        "reuters_data.head()"
      ],
      "execution_count": null,
      "outputs": []
    },
    {
      "cell_type": "code",
      "metadata": {
        "id": "j7FNOjFqGn0B",
        "colab_type": "code",
        "colab": {}
      },
      "source": [
        "reuters_data.to_csv(os.path.join(drive_root, 'covid_world_reuters.csv'), index=False)"
      ],
      "execution_count": null,
      "outputs": []
    },
    {
      "cell_type": "markdown",
      "metadata": {
        "id": "hchmmeZZ27A4",
        "colab_type": "text"
      },
      "source": [
        "## Интерфакс"
      ]
    },
    {
      "cell_type": "code",
      "metadata": {
        "id": "krhC6Qp029pm",
        "colab_type": "code",
        "colab": {}
      },
      "source": [
        "# Набираем урлы\n",
        "\n",
        "def get_interfax_urls(url_template, num_articles):\n",
        "    start_id = 704968\n",
        "    interfax_urls = []\n",
        "    for news_id in range(start_id, start_id - num_articles, -1):\n",
        "        interfax_urls.append(url_template.format(str(news_id)))\n",
        "    return interfax_urls"
      ],
      "execution_count": null,
      "outputs": []
    },
    {
      "cell_type": "code",
      "metadata": {
        "id": "YXMOvckV3ZTu",
        "colab_type": "code",
        "colab": {}
      },
      "source": [
        "interfax_urls = get_interfax_urls(\n",
        "    'https://www.interfax.ru/russia/{}',  # На самом деле там все категории подряд\n",
        "    8000)\n",
        "interfax_data = parse_urls(interfax_urls)\n",
        "interfax_data.head()"
      ],
      "execution_count": null,
      "outputs": []
    },
    {
      "cell_type": "code",
      "metadata": {
        "id": "IgdlM1eFEOwh",
        "colab_type": "code",
        "colab": {}
      },
      "source": [
        "interfax_data.to_csv(os.path.join(drive_root, 'covid_world_interfax.csv'), index=False)"
      ],
      "execution_count": null,
      "outputs": []
    },
    {
      "cell_type": "markdown",
      "metadata": {
        "id": "z76YqK5wJsr9",
        "colab_type": "text"
      },
      "source": [
        "# Cleaning and segmentating"
      ]
    },
    {
      "cell_type": "code",
      "metadata": {
        "id": "OhV8zXLArL3a",
        "colab_type": "code",
        "colab": {}
      },
      "source": [
        "import pandas as pd\n",
        "import os\n",
        "\n",
        "reuters_data = pd.read_csv(os.path.join(drive_root, 'covid_world_target.csv'))\n",
        "interfax_data = pd.read_csv(os.path.join(drive_root, 'covid_world_source.csv'))"
      ],
      "execution_count": null,
      "outputs": []
    },
    {
      "cell_type": "code",
      "metadata": {
        "id": "3O8BoD4RqVEg",
        "colab_type": "code",
        "colab": {
          "base_uri": "https://localhost:8080/"
        },
        "outputId": "70f9ed0b-9fbd-46ef-854d-034549390552"
      },
      "source": [
        "print(len(reuters_data))\n",
        "print(len(interfax_data))"
      ],
      "execution_count": null,
      "outputs": [
        {
          "output_type": "stream",
          "text": [
            "4399\n",
            "7857\n"
          ],
          "name": "stdout"
        }
      ]
    },
    {
      "cell_type": "code",
      "metadata": {
        "id": "6-pWwOZZJ_Bu",
        "colab_type": "code",
        "colab": {}
      },
      "source": [
        "# На выходе должны получиться мапы из id предложения в предложение.\n",
        "\n",
        "from deeppavlov.models.tokenizers.ru_sent_tokenizer import RuSentTokenizer\n",
        "from mosestokenizer import MosesSentenceSplitter\n",
        "import re\n",
        "from tqdm.notebook import tqdm\n",
        "\n",
        "def get_interfax_sents(data, id_prefix, min_sent_len=30):\n",
        "    sents = {}\n",
        "    sent_id = 0\n",
        "    texts = data['Text'].tolist()\n",
        "    tokenize = RuSentTokenizer()\n",
        "    for text in tqdm(texts):\n",
        "        text = re.sub('(.*INTERFAX.RU -)', '', text)\n",
        "        text = re.sub('(\\n\\n)', ' ', text)\n",
        "        for sent in tokenize([text]):\n",
        "            sent = sent[0]\n",
        "            if len(sent) > min_sent_len:\n",
        "                sents[id_prefix + str(sent_id)] = sent\n",
        "                sent_id += 1\n",
        "    # Добавим заголовки отдельно\n",
        "    titles = data['Title'].tolist()\n",
        "    for title in titles:\n",
        "        sents[id_prefix + str(sent_id)] = title\n",
        "        sent_id += 1\n",
        "    return sents\n",
        "\n",
        "\n",
        "def get_reuters_sents(data, id_prefix, min_sent_len=30):\n",
        "    sents = {}\n",
        "    sent_id = 0\n",
        "    texts = data['Text'].tolist()\n",
        "    with MosesSentenceSplitter('ru') as splitsents:\n",
        "        for text in tqdm(texts):\n",
        "            text = re.sub('(.*\\(Reuters\\) - )', '', text)\n",
        "            text = re.sub('(FILE PHOTO:.*\\n\\n)', '', text)\n",
        "            text = re.sub('(\\n\\n)', ' ', text)\n",
        "            for sent in splitsents([text]):\n",
        "                if sent[0] == '\"' or sent[0] == '“':\n",
        "                    sent = sent[1:]\n",
        "                if sent[-1] == '\"' or sent[-1] == '“':\n",
        "                    sent = sent[:-1]\n",
        "                if len(sent) > min_sent_len:\n",
        "                    sents[id_prefix + str(sent_id)] = sent\n",
        "                    sent_id += 1\n",
        "    # Добавим заголовки отдельно\n",
        "    titles = data['Title'].tolist()\n",
        "    for title in titles:\n",
        "        sents[id_prefix + str(sent_id)] = title\n",
        "        sent_id += 1\n",
        "    return sents"
      ],
      "execution_count": null,
      "outputs": []
    },
    {
      "cell_type": "code",
      "metadata": {
        "id": "aGTPDgszM7PY",
        "colab_type": "code",
        "colab": {}
      },
      "source": [
        "interfax_sents = get_interfax_sents(interfax_data, 'ru-covid-interfax-')\n",
        "print(len(interfax_sents))"
      ],
      "execution_count": null,
      "outputs": []
    },
    {
      "cell_type": "code",
      "metadata": {
        "id": "DkYI_z58NHGF",
        "colab_type": "code",
        "colab": {}
      },
      "source": [
        "reuters_sents = get_reuters_sents(reuters_data, 'en-covid-reuters-')\n",
        "print(len(reuters_sents))"
      ],
      "execution_count": null,
      "outputs": []
    },
    {
      "cell_type": "code",
      "metadata": {
        "id": "NhFZtDsOUzr-",
        "colab_type": "code",
        "colab": {}
      },
      "source": [
        "import pickle\n",
        "\n",
        "def save_data(data, name):\n",
        "    with open('{}.pkl'.format(name), 'wb') as f:\n",
        "        pickle.dump(data, f, protocol=pickle.HIGHEST_PROTOCOL)\n",
        "\n",
        "save_data(interfax_sents, os.path.join(drive_root, 'covid_world_source'))\n",
        "save_data(reuters_sents, os.path.join(drive_root, 'covid_world_target'))"
      ],
      "execution_count": null,
      "outputs": []
    },
    {
      "cell_type": "markdown",
      "metadata": {
        "id": "bV4uNDDtrux-",
        "colab_type": "text"
      },
      "source": [
        "# Немного статистики"
      ]
    },
    {
      "cell_type": "code",
      "metadata": {
        "id": "I0bzJbbDsFmh",
        "colab_type": "code",
        "colab": {}
      },
      "source": [
        "import pickle\n",
        "import os\n",
        "\n",
        "def load_data(name):\n",
        "    with open('{}.pkl'.format(name), 'rb') as f:\n",
        "        return pickle.load(f)\n",
        "\n",
        "def save_data(data, name):\n",
        "    with open('{}.pkl'.format(name), 'wb') as f:\n",
        "        pickle.dump(data, f, protocol=pickle.HIGHEST_PROTOCOL)\n",
        "\n",
        "id2source = load_data(os.path.join(drive_root, 'covid_world_target'))\n",
        "id2target = load_data(os.path.join(drive_root, 'covid_world_source'))"
      ],
      "execution_count": null,
      "outputs": []
    },
    {
      "cell_type": "code",
      "metadata": {
        "id": "W-GsLrWH1Jp_",
        "colab_type": "code",
        "colab": {
          "base_uri": "https://localhost:8080/",
          "height": 194
        },
        "outputId": "726d996d-55b2-4262-b400-bfe5defaecd8"
      },
      "source": [
        "import pandas as pd\n",
        "\n",
        "ru_df = pd.DataFrame({'id': list(id2source.keys()), 'sentence': list(id2source.values())})\n",
        "en_df = pd.DataFrame({'id': list(id2target.keys()), 'sentence': list(id2target.values())})\n",
        "ru_df.to_csv(os.path.join(drive_root, 'covid_en.csv'), index=False)\n",
        "en_df.to_csv(os.path.join(drive_root, 'covid_ru.csv'), index=False)\n",
        "en_df.head()"
      ],
      "execution_count": null,
      "outputs": [
        {
          "output_type": "execute_result",
          "data": {
            "text/html": [
              "<div>\n",
              "<style scoped>\n",
              "    .dataframe tbody tr th:only-of-type {\n",
              "        vertical-align: middle;\n",
              "    }\n",
              "\n",
              "    .dataframe tbody tr th {\n",
              "        vertical-align: top;\n",
              "    }\n",
              "\n",
              "    .dataframe thead th {\n",
              "        text-align: right;\n",
              "    }\n",
              "</style>\n",
              "<table border=\"1\" class=\"dataframe\">\n",
              "  <thead>\n",
              "    <tr style=\"text-align: right;\">\n",
              "      <th></th>\n",
              "      <th>id</th>\n",
              "      <th>sentence</th>\n",
              "    </tr>\n",
              "  </thead>\n",
              "  <tbody>\n",
              "    <tr>\n",
              "      <th>0</th>\n",
              "      <td>ru-covid-interfax-0</td>\n",
              "      <td>Мантуров посоветовал пить травяные чаи в предд...</td>\n",
              "    </tr>\n",
              "    <tr>\n",
              "      <th>1</th>\n",
              "      <td>ru-covid-interfax-1</td>\n",
              "      <td>Умер композитор Александр Вустин  В Москве на ...</td>\n",
              "    </tr>\n",
              "    <tr>\n",
              "      <th>2</th>\n",
              "      <td>ru-covid-interfax-2</td>\n",
              "      <td>В Новосибирск из Бангкока самолетом вывезли 18...</td>\n",
              "    </tr>\n",
              "    <tr>\n",
              "      <th>3</th>\n",
              "      <td>ru-covid-interfax-3</td>\n",
              "      <td>\"Индекс самоизоляции\" показал, что большинство...</td>\n",
              "    </tr>\n",
              "    <tr>\n",
              "      <th>4</th>\n",
              "      <td>ru-covid-interfax-4</td>\n",
              "      <td>Эпидемиолог объяснил рост числа выявленных в Р...</td>\n",
              "    </tr>\n",
              "  </tbody>\n",
              "</table>\n",
              "</div>"
            ],
            "text/plain": [
              "                    id                                           sentence\n",
              "0  ru-covid-interfax-0  Мантуров посоветовал пить травяные чаи в предд...\n",
              "1  ru-covid-interfax-1  Умер композитор Александр Вустин  В Москве на ...\n",
              "2  ru-covid-interfax-2  В Новосибирск из Бангкока самолетом вывезли 18...\n",
              "3  ru-covid-interfax-3  \"Индекс самоизоляции\" показал, что большинство...\n",
              "4  ru-covid-interfax-4  Эпидемиолог объяснил рост числа выявленных в Р..."
            ]
          },
          "metadata": {
            "tags": []
          },
          "execution_count": 5
        }
      ]
    },
    {
      "cell_type": "code",
      "metadata": {
        "id": "HxXgMYWksV6Y",
        "colab_type": "code",
        "colab": {}
      },
      "source": [
        "import nltk\n",
        "import pandas as pd\n",
        "import os\n",
        "from tqdm.notebook import tqdm\n",
        "from collections import Counter\n",
        "\n",
        "nltk.download('punkt')\n",
        "\n",
        "def sentence_stats(id2sent):\n",
        "    \n",
        "    print('\\nSentences: {}'.format(len(id2sent)))\n",
        "    \n",
        "    words = []\n",
        "    for t in tqdm(id2sent.values()):\n",
        "        words += nltk.word_tokenize(t)\n",
        "    print('Words: {}'.format(len(words)))\n",
        "    \n",
        "    counter = Counter(words)\n",
        "    print('Unique words: {}'.format(len(counter)))\n",
        "    print('Most common words: {}'.format(counter.most_common()[:20]))\n",
        "    \n",
        "    return len(id2sent)\n",
        "\n",
        "\n",
        "def stats(id2source, id2target):\n",
        "\n",
        "    print('Processing source (en)...')\n",
        "    lang1_len = sentence_stats(id2source)\n",
        "    print('\\n')\n",
        "    \n",
        "    print('Processing target (ru)...')\n",
        "    lang2_len = sentence_stats(id2target)\n",
        "    print('\\n')"
      ],
      "execution_count": null,
      "outputs": []
    },
    {
      "cell_type": "code",
      "metadata": {
        "id": "Wd2uxC-AsX8n",
        "colab_type": "code",
        "colab": {}
      },
      "source": [
        "stats(id2source, id2target)"
      ],
      "execution_count": null,
      "outputs": []
    },
    {
      "cell_type": "code",
      "metadata": {
        "id": "JjF5C_3Ps8ws",
        "colab_type": "code",
        "colab": {}
      },
      "source": [
        "interfax_sents = id2target\n",
        "reuters_sents = id2source"
      ],
      "execution_count": null,
      "outputs": []
    },
    {
      "cell_type": "markdown",
      "metadata": {
        "id": "RRwgIG4uvi3g",
        "colab_type": "text"
      },
      "source": [
        "## Поиск предложений с помощью LASER\n",
        "\n"
      ]
    },
    {
      "cell_type": "code",
      "metadata": {
        "id": "y9XAQg9QEjys",
        "colab_type": "code",
        "colab": {}
      },
      "source": [
        "import faiss\n",
        "from collections import defaultdict\n",
        "import torch\n",
        "assert torch.cuda.is_available()\n",
        "\n",
        "from knn_cuda import KNN\n",
        "from laser_wrapper.laser import Laser\n",
        "import numpy as np\n",
        "\n",
        "assert faiss.get_num_gpus() > 0\n",
        "\n",
        "def get_emb(model, batch):\n",
        "    return model(batch)\n",
        "\n",
        "def knn(x, y, k, mem=5*1024*1024*1024):\n",
        "  dim = x.shape[1]\n",
        "  batch_size = mem // (dim*4)\n",
        "  sim = np.zeros((x.shape[0], k), dtype=np.float32)\n",
        "  ind = np.zeros((x.shape[0], k), dtype=np.int64)\n",
        "  for xfrom in range(0, x.shape[0], batch_size):\n",
        "    xto = min(xfrom + batch_size, x.shape[0])\n",
        "    bsims, binds = [], []\n",
        "    for yfrom in range(0, y.shape[0], batch_size):\n",
        "      yto = min(yfrom + batch_size, y.shape[0])\n",
        "      print('{}-{}  ->  {}-{}'.format(xfrom, xto, yfrom, yto))\n",
        "      idx = faiss.IndexFlatIP(dim)\n",
        "      idx = faiss.index_cpu_to_all_gpus(idx)\n",
        "      idx.add(y[yfrom:yto])\n",
        "      bsim, bind = idx.search(x[xfrom:xto], min(k, yto-yfrom))\n",
        "      bsims.append(bsim)\n",
        "      binds.append(bind + yfrom)\n",
        "      del idx\n",
        "    bsims = np.concatenate(bsims, axis=1)\n",
        "    binds = np.concatenate(binds, axis=1)\n",
        "    aux = np.argsort(-bsims, axis=1)\n",
        "    for i in range(xfrom, xto):\n",
        "      for j in range(k):\n",
        "        sim[i, j] = bsims[i-xfrom, aux[i-xfrom, j]]\n",
        "        ind[i, j] = binds[i-xfrom, aux[i-xfrom, j]]\n",
        "  return sim, ind\n",
        "\n",
        "\n",
        "def get_embeddings(model, id2sent, batch_size=512):\n",
        "    sent_list = list(id2sent.values())\n",
        "    ids = list(id2sent.keys())\n",
        "    with torch.no_grad():\n",
        "        vectors = []\n",
        "        for start in tqdm(range(0, len(sent_list), batch_size)):\n",
        "            end = min(start + batch_size, len(sent_list))\n",
        "            batch_list = sent_list[start:end]\n",
        "            vectors.extend(get_emb(model, batch_list))\n",
        "        \n",
        "    assert len(vectors) == len(ids) == len(sent_list)\n",
        "    vectors = np.array(vectors)\n",
        "    faiss.normalize_L2(vectors)\n",
        "    return vectors\n",
        "\n",
        "\n",
        "def score_pair(x, y, fwd_mean, bwd_mean, margin, dist='cosine'):\n",
        "  if dist == 'cosine':\n",
        "    return margin(x.dot(y), (fwd_mean + bwd_mean) / 2)\n",
        "  else:\n",
        "    l2 = ((x - y) ** 2).sum()\n",
        "    sim = 1 / (1 + l2)\n",
        "    return margin(sim, (fwd_mean + bwd_mean) / 2)\n",
        "\n",
        "\n",
        "def score_candidates(x, y, candidate_inds, fwd_mean, bwd_mean, margin, dist='cosine'):\n",
        "  scores = np.zeros(candidate_inds.shape)\n",
        "  for i in range(scores.shape[0]):\n",
        "    for j in range(scores.shape[1]):\n",
        "      k = candidate_inds[i, j]\n",
        "      scores[i, j] = score_pair(x[i], y[k], fwd_mean[i], bwd_mean[k], margin, dist)\n",
        "  return scores\n",
        "\n",
        "\n",
        "def shift_embeddings(x, y):\n",
        "  print(' - shift embeddings')\n",
        "  delta = x.mean(axis=0) - y.mean(axis=0)\n",
        "  x2y = x - delta\n",
        "  y2x = y + delta\n",
        "  return x2y, y2x\n",
        "\n",
        "\n",
        "def get_candidates(model, sources, targets, return_all=False, do_save=True, save_prefix='wiki_',\n",
        "                   n_candidates=10, batch_size=512, margin='ratio', threshold=0.5, retrieval='max', use_shift=True, do_load=True):\n",
        "    if do_load and os.path.exists(os.path.join(drive_root, save_prefix + 'source_vectors.pkl')):\n",
        "        print('Loading source embeddings...')\n",
        "        source_vectors = load_data(os.path.join(drive_root, save_prefix + 'source_vectors'))\n",
        "    else:\n",
        "        print('Computing source embeddings...')\n",
        "        source_vectors = get_embeddings(model, sources)\n",
        "        if do_save:\n",
        "            save_data(source_vectors, os.path.join(drive_root, save_prefix + 'source_vectors'))\n",
        "    print(source_vectors.shape)\n",
        "    assert len(sources) == len(source_vectors)\n",
        "\n",
        "    if do_load and os.path.exists(os.path.join(drive_root, save_prefix + 'target_vectors.pkl')):\n",
        "        print('Loading target embeddings...')\n",
        "        target_vectors = load_data(os.path.join(drive_root, save_prefix + 'target_vectors'))\n",
        "    else:\n",
        "        print('Computing target embeddings...')\n",
        "        target_vectors = get_embeddings(model, targets)\n",
        "        if do_save:\n",
        "            save_data(target_vectors, os.path.join(drive_root, save_prefix + 'target_vectors'))\n",
        "    print(target_vectors.shape)\n",
        "    assert len(targets) == len(target_vectors)\n",
        "\n",
        "    if use_shift:\n",
        "        x2y, y2x = shift_embeddings(source_vectors, target_vectors)\n",
        "    \n",
        "    print('Computing distances...')\n",
        "    if use_shift:\n",
        "        x2y_sim, x2y_ind = knn(x2y, target_vectors, min(target_vectors.shape[0], n_candidates))\n",
        "        x2y_mean = x2y_sim.mean(axis=1)\n",
        "    else:\n",
        "        x2y_sim, x2y_ind = knn(source_vectors, target_vectors, min(target_vectors.shape[0], n_candidates))\n",
        "        x2y_mean = x2y_sim.mean(axis=1)\n",
        "\n",
        "    print('Computing reverse distances...')\n",
        "    if use_shift:\n",
        "        y2x_sim, y2x_ind = knn(y2x, source_vectors, min(source_vectors.shape[0], n_candidates))\n",
        "        y2x_mean = y2x_sim.mean(axis=1)\n",
        "    else:\n",
        "        y2x_sim, y2x_ind = knn(target_vectors, source_vectors, n_candidates)\n",
        "        y2x_mean = y2x_sim.mean(axis=1)\n",
        "\n",
        "    if margin == 'absolute':\n",
        "        margin = lambda a, b: a\n",
        "    elif margin == 'distance':\n",
        "        margin = lambda a, b: a - b\n",
        "    else:  # margin == 'ratio':\n",
        "        margin = lambda a, b: a / b\n",
        "\n",
        "    print('Scoring candidates...')\n",
        "    if use_shift:\n",
        "        fwd_scores = score_candidates(x2y, target_vectors, x2y_ind, x2y_mean, y2x_mean, margin)\n",
        "        bwd_scores = score_candidates(y2x, source_vectors, y2x_ind, y2x_mean, x2y_mean, margin)\n",
        "    else:\n",
        "        fwd_scores = score_candidates(source_vectors, target_vectors, x2y_ind, x2y_mean, y2x_mean, margin)\n",
        "        bwd_scores = score_candidates(target_vectors, source_vectors, y2x_ind, y2x_mean, x2y_mean, margin)\n",
        "\n",
        "    fwd_best = x2y_ind[np.arange(source_vectors.shape[0]), fwd_scores.argmax(axis=1)]\n",
        "    bwd_best = y2x_ind[np.arange(target_vectors.shape[0]), bwd_scores.argmax(axis=1)]\n",
        "\n",
        "    print('Retrieving results...')\n",
        "    source_keys = list(sources.keys())\n",
        "    target_keys = list(targets.keys())\n",
        "    predicted = []\n",
        "    distances = []\n",
        "    if retrieval == 'intersection':\n",
        "        for i, j in enumerate(fwd_best):\n",
        "            if bwd_best[j] == i:\n",
        "                predicted.append((source_keys[i], target_keys[j]))\n",
        "                distances.append(fwd_scores[i].max())\n",
        "\n",
        "    if retrieval == 'max':\n",
        "        indices = np.stack((np.concatenate((np.arange(source_vectors.shape[0]), bwd_best)),\n",
        "                            np.concatenate((fwd_best, np.arange(target_vectors.shape[0])))), axis=1)\n",
        "        scores = np.concatenate((fwd_scores.max(axis=1), bwd_scores.max(axis=1)))\n",
        "        seen_src, seen_trg = set(), set()\n",
        "        for i in np.argsort(-scores):\n",
        "            src_ind, trg_ind = indices[i]\n",
        "            if not src_ind in seen_src and not trg_ind in seen_trg:\n",
        "                seen_src.add(src_ind)\n",
        "                seen_trg.add(trg_ind)\n",
        "                if scores[i] > 1.115:\n",
        "                    predicted.append((source_keys[src_ind], target_keys[trg_ind]))\n",
        "                    distances.append(scores[i])\n",
        "\n",
        "    id2candidates_full = defaultdict(list)\n",
        "    id2distances_full = defaultdict(list)\n",
        "    for i, _ in enumerate(x2y_ind):\n",
        "        for jj, j in enumerate(x2y_ind[i]):\n",
        "            id2candidates_full[source_keys[i]].append(target_keys[j])\n",
        "            id2distances_full[source_keys[i]].append(fwd_scores[i][jj])\n",
        "\n",
        "    if return_all:\n",
        "        return predicted, distances, id2candidates_full, id2distances_full\n",
        "    return predicted, distances"
      ],
      "execution_count": null,
      "outputs": []
    },
    {
      "cell_type": "code",
      "metadata": {
        "id": "uoMJdaeVEkSc",
        "colab_type": "code",
        "colab": {}
      },
      "source": [
        "from tqdm.notebook import tqdm\n",
        "\n",
        "laser = Laser('LASER/models/bilstm.93langs.2018-12-26.pt', 'LASER/models/93langs.fcodes', use_gpu=True)\n",
        "predicted, id2dist, id2candidates_full, id2distances_full = get_candidates(laser, id2source, id2target, return_all=True)"
      ],
      "execution_count": null,
      "outputs": []
    },
    {
      "cell_type": "code",
      "metadata": {
        "id": "5U-PGhOZEo5U",
        "colab_type": "code",
        "colab": {}
      },
      "source": [
        "for d, (source, target) in zip(id2dist, predicted):\n",
        "    print(f'{id2source[source]}')\n",
        "    print(f'{id2target[target]}\\n')"
      ],
      "execution_count": null,
      "outputs": []
    },
    {
      "cell_type": "code",
      "metadata": {
        "id": "x4NnBzxqQPGb",
        "colab_type": "code",
        "colab": {
          "base_uri": "https://localhost:8080/",
          "height": 194
        },
        "outputId": "2610b9fb-0bba-476f-93fa-65a89557d487"
      },
      "source": [
        "import pandas as pd\n",
        "\n",
        "pairs_df = pd.DataFrame({'en': [id2source[s] for s, t in predicted],\n",
        "                         'ru': [id2target[t] for s, t in predicted]})\n",
        "pairs_df.to_csv(os.path.join(drive_root, 'covid_en_ru.csv'), index=False)\n",
        "pairs_df.head()"
      ],
      "execution_count": null,
      "outputs": [
        {
          "output_type": "execute_result",
          "data": {
            "text/html": [
              "<div>\n",
              "<style scoped>\n",
              "    .dataframe tbody tr th:only-of-type {\n",
              "        vertical-align: middle;\n",
              "    }\n",
              "\n",
              "    .dataframe tbody tr th {\n",
              "        vertical-align: top;\n",
              "    }\n",
              "\n",
              "    .dataframe thead th {\n",
              "        text-align: right;\n",
              "    }\n",
              "</style>\n",
              "<table border=\"1\" class=\"dataframe\">\n",
              "  <thead>\n",
              "    <tr style=\"text-align: right;\">\n",
              "      <th></th>\n",
              "      <th>en</th>\n",
              "      <th>ru</th>\n",
              "    </tr>\n",
              "  </thead>\n",
              "  <tbody>\n",
              "    <tr>\n",
              "      <th>0</th>\n",
              "      <td>Luxembourg becomes first country to make publi...</td>\n",
              "      <td>Люксембург стал первой страной в мире с беспла...</td>\n",
              "    </tr>\n",
              "    <tr>\n",
              "      <th>1</th>\n",
              "      <td>Putin said his talks with Erdogan has lasted m...</td>\n",
              "      <td>Переговоры Путина и Эрдогана продлились почти ...</td>\n",
              "    </tr>\n",
              "    <tr>\n",
              "      <th>2</th>\n",
              "      <td>Related Coverage Armenia and Russia to restric...</td>\n",
              "      <td>РФ и Армения договорились ограничить на две не...</td>\n",
              "    </tr>\n",
              "    <tr>\n",
              "      <th>3</th>\n",
              "      <td>Putin extends Russia's coronavirus non-working...</td>\n",
              "      <td>Путин объявил о продлении нерабочей недели в Р...</td>\n",
              "    </tr>\n",
              "    <tr>\n",
              "      <th>4</th>\n",
              "      <td>I like to look at involuntary part-time employ...</td>\n",
              "      <td>В РЖД перешли на неполный рабочий день</td>\n",
              "    </tr>\n",
              "  </tbody>\n",
              "</table>\n",
              "</div>"
            ],
            "text/plain": [
              "                                                  en                                                 ru\n",
              "0  Luxembourg becomes first country to make publi...  Люксембург стал первой страной в мире с беспла...\n",
              "1  Putin said his talks with Erdogan has lasted m...  Переговоры Путина и Эрдогана продлились почти ...\n",
              "2  Related Coverage Armenia and Russia to restric...  РФ и Армения договорились ограничить на две не...\n",
              "3  Putin extends Russia's coronavirus non-working...  Путин объявил о продлении нерабочей недели в Р...\n",
              "4  I like to look at involuntary part-time employ...             В РЖД перешли на неполный рабочий день"
            ]
          },
          "metadata": {
            "tags": []
          },
          "execution_count": 34
        }
      ]
    },
    {
      "cell_type": "code",
      "metadata": {
        "id": "oyt6aB8XHKPZ",
        "colab_type": "code",
        "colab": {}
      },
      "source": [
        ""
      ],
      "execution_count": null,
      "outputs": []
    }
  ]
}