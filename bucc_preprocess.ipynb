{
  "nbformat": 4,
  "nbformat_minor": 0,
  "metadata": {
    "colab": {
      "name": "bucc_preprocess.ipynb",
      "provenance": [],
      "collapsed_sections": []
    },
    "kernelspec": {
      "name": "python3",
      "display_name": "Python 3"
    },
    "accelerator": "GPU"
  },
  "cells": [
    {
      "cell_type": "markdown",
      "metadata": {
        "id": "lig4XZF0VHZ7",
        "colab_type": "text"
      },
      "source": [
        "Reads data from training data files and converts it to single data.csv with positive and negative samples."
      ]
    },
    {
      "cell_type": "code",
      "metadata": {
        "id": "v6N2DDWn8nNM",
        "colab_type": "code",
        "colab": {}
      },
      "source": [
        "import pandas as pd\n",
        "import os\n",
        "import pickle"
      ],
      "execution_count": null,
      "outputs": []
    },
    {
      "cell_type": "code",
      "metadata": {
        "id": "JI0zQSH98YJi",
        "colab_type": "code",
        "colab": {}
      },
      "source": [
        "lang = 'ru'\n",
        "\n",
        "lang_root = 'bucc2018/{}-en/'.format(lang)\n",
        "map_file_prefix = 'dict_bucc2018_{}-en'.format(lang)\n",
        "\n",
        "data_source_map = pd.read_csv(os.path.join(lang_root, '{}-en.training.ru'.format(lang)), sep='\\t', names=['id', 'text'])\n",
        "data_target_map = pd.read_csv(os.path.join(lang_root, '{}-en.training.en'.format(lang)), sep='\\t', names=['id', 'text'])\n",
        "\n",
        "# key = sentence id, value = sentence text\n",
        "data_source_map = data_source_map.set_index('id')['text'].to_dict()\n",
        "data_target_map = data_target_map.set_index('id')['text'].to_dict()\n",
        "\n",
        "def save_map(data_map, name):\n",
        "    with open('{}_{}.pkl'.format(map_file_prefix, name), 'wb') as f:\n",
        "        pickle.dump(data_map, f, protocol=pickle.HIGHEST_PROTOCOL)\n",
        "        \n",
        "save_map(data_source_map, 'source')\n",
        "save_map(data_target_map, 'target')\n",
        "\n",
        "gold = pd.read_csv(os.path.join(lang_root, '{}-en.training.gold'.format(lang)), sep='\\t', names=['source', 'target'])"
      ],
      "execution_count": null,
      "outputs": []
    },
    {
      "cell_type": "code",
      "metadata": {
        "id": "RdUmtI6YB6uR",
        "colab_type": "code",
        "colab": {
          "base_uri": "https://localhost:8080/",
          "height": 54
        },
        "outputId": "22f81b90-b96c-472d-acb3-d62c43508cd1"
      },
      "source": [
        "# Positive samples\n",
        "\n",
        "POSITIVE_TAG = 1\n",
        "NEGATIVE_TAG = 0\n",
        "\n",
        "positive_data = []\n",
        "error_count = 0\n",
        "for _, row in gold.iterrows():\n",
        "    try:\n",
        "        positive_data.append((data_source_map[row.source], data_target_map[row.target], POSITIVE_TAG))\n",
        "    except KeyError:\n",
        "        error_count += 1\n",
        "\n",
        "print('Errors: {:.2f}%'.format(error_count * 100 / len(data_source_map)))\n",
        "print('Positive data size: {}'.format(len(positive_data)))"
      ],
      "execution_count": null,
      "outputs": [
        {
          "output_type": "stream",
          "text": [
            "Errors: 0.09%\n",
            "Positive data size: 14029\n"
          ],
          "name": "stdout"
        }
      ]
    },
    {
      "cell_type": "code",
      "metadata": {
        "id": "LKiipWmJPLTo",
        "colab_type": "code",
        "colab": {}
      },
      "source": [
        "# To get negative samples, we will pick random negative target for each source.\n",
        "# Positive and negative samples might contain the same sentences.\n",
        "\n",
        "import random\n",
        "\n",
        "random_targets = random.sample(list(data_target_map.values()), len(positive_data))\n",
        "negative_data = list(zip(list(data_source_map.values())[:len(positive_data)], \n",
        "                         random_targets, [NEGATIVE_TAG] * len(positive_data)))\n",
        "assert len(positive_data) == len(negative_data)"
      ],
      "execution_count": null,
      "outputs": []
    },
    {
      "cell_type": "code",
      "metadata": {
        "id": "4TyyJVTMPFCZ",
        "colab_type": "code",
        "colab": {
          "base_uri": "https://localhost:8080/",
          "height": 198
        },
        "outputId": "5c47e33d-6350-4815-9e4b-4dd2d36a2f12"
      },
      "source": [
        "data = positive_data + negative_data\n",
        "random.shuffle(data)\n",
        "data = pd.DataFrame(data, columns=['source', 'target', 'label'])\n",
        "data.head()"
      ],
      "execution_count": null,
      "outputs": [
        {
          "output_type": "execute_result",
          "data": {
            "text/html": [
              "<div>\n",
              "<style scoped>\n",
              "    .dataframe tbody tr th:only-of-type {\n",
              "        vertical-align: middle;\n",
              "    }\n",
              "\n",
              "    .dataframe tbody tr th {\n",
              "        vertical-align: top;\n",
              "    }\n",
              "\n",
              "    .dataframe thead th {\n",
              "        text-align: right;\n",
              "    }\n",
              "</style>\n",
              "<table border=\"1\" class=\"dataframe\">\n",
              "  <thead>\n",
              "    <tr style=\"text-align: right;\">\n",
              "      <th></th>\n",
              "      <th>source</th>\n",
              "      <th>target</th>\n",
              "      <th>label</th>\n",
              "    </tr>\n",
              "  </thead>\n",
              "  <tbody>\n",
              "    <tr>\n",
              "      <th>0</th>\n",
              "      <td>До окончательного подчинения Астраханского хан...</td>\n",
              "      <td>But it's never been the case, and I'm not a Su...</td>\n",
              "      <td>0</td>\n",
              "    </tr>\n",
              "    <tr>\n",
              "      <th>1</th>\n",
              "      <td>В декабре 1919 штабс-ротмистр Червинский предп...</td>\n",
              "      <td>These mutualisms could lead to a decline in bo...</td>\n",
              "      <td>0</td>\n",
              "    </tr>\n",
              "    <tr>\n",
              "      <th>2</th>\n",
              "      <td>По некоторым оценкам, около 20% мировых запасо...</td>\n",
              "      <td>Some estimates suggest that about 20% of the w...</td>\n",
              "      <td>1</td>\n",
              "    </tr>\n",
              "    <tr>\n",
              "      <th>3</th>\n",
              "      <td>В результате кризиса 1997 года была признана н...</td>\n",
              "      <td>Following the 1997 crisis, there was a consens...</td>\n",
              "      <td>1</td>\n",
              "    </tr>\n",
              "    <tr>\n",
              "      <th>4</th>\n",
              "      <td>Импортируются в страну некоторые зерновые и ма...</td>\n",
              "      <td>General Michel Sulaiman added, that victory wa...</td>\n",
              "      <td>0</td>\n",
              "    </tr>\n",
              "  </tbody>\n",
              "</table>\n",
              "</div>"
            ],
            "text/plain": [
              "                                              source  \\\n",
              "0  До окончательного подчинения Астраханского хан...   \n",
              "1  В декабре 1919 штабс-ротмистр Червинский предп...   \n",
              "2  По некоторым оценкам, около 20% мировых запасо...   \n",
              "3  В результате кризиса 1997 года была признана н...   \n",
              "4  Импортируются в страну некоторые зерновые и ма...   \n",
              "\n",
              "                                              target  label  \n",
              "0  But it's never been the case, and I'm not a Su...      0  \n",
              "1  These mutualisms could lead to a decline in bo...      0  \n",
              "2  Some estimates suggest that about 20% of the w...      1  \n",
              "3  Following the 1997 crisis, there was a consens...      1  \n",
              "4  General Michel Sulaiman added, that victory wa...      0  "
            ]
          },
          "metadata": {
            "tags": []
          },
          "execution_count": 18
        }
      ]
    },
    {
      "cell_type": "code",
      "metadata": {
        "id": "gqjL1XD_T6Km",
        "colab_type": "code",
        "colab": {}
      },
      "source": [
        "data.to_csv('data_{}-en.csv'.format(lang), index=False)"
      ],
      "execution_count": null,
      "outputs": []
    },
    {
      "cell_type": "code",
      "metadata": {
        "id": "c5YAkA_b8wIP",
        "colab_type": "code",
        "colab": {}
      },
      "source": [
        ""
      ],
      "execution_count": null,
      "outputs": []
    }
  ]
}